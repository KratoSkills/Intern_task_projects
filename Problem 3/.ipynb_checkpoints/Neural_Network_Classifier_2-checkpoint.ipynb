{
 "cells": [
  {
   "cell_type": "markdown",
   "metadata": {
    "id": "khxkbYmBg6JQ"
   },
   "source": [
    "# Section 1 : Importing Dependencies"
   ]
  },
  {
   "cell_type": "code",
   "execution_count": 2,
   "metadata": {
    "id": "RW65WwjhXjXM"
   },
   "outputs": [],
   "source": [
    "import jax                                                                # Another version of numpy for Computation on GPU / TPU\n",
    "import jax.numpy as jnp\n",
    "from jax import random\n",
    "from activations import *\n",
    "\n",
    "import matplotlib.pyplot as plt                                           # Library for Visualization \n",
    "\n",
    "\n",
    "import tensorflow.keras.datasets.mnist as mnist                           # Tensorflow library for deep learning computation\n",
    "from tensorflow.keras.utils import to_categorical\n",
    "\n",
    "from sklearn.metrics import classification_report, confusion_matrix       # Sklearn for classifications metrics"
   ]
  },
  {
   "cell_type": "markdown",
   "metadata": {
    "id": "PILs1TYzsnF_"
   },
   "source": [
    "# Section 2 : Dataset\n",
    " - We will use Mnist Dataset for classifying Hand-Written digits"
   ]
  },
  {
   "cell_type": "code",
   "execution_count": 3,
   "metadata": {
    "colab": {
     "base_uri": "https://localhost:8080/"
    },
    "id": "n7uofdwQs9Um",
    "outputId": "8374c786-ca95-471c-fcb7-3b3498621cdb"
   },
   "outputs": [
    {
     "name": "stdout",
     "output_type": "stream",
     "text": [
      "Downloading data from https://storage.googleapis.com/tensorflow/tf-keras-datasets/mnist.npz\n",
      "11493376/11490434 [==============================] - 0s 0us/step\n",
      "11501568/11490434 [==============================] - 0s 0us/step\n"
     ]
    }
   ],
   "source": [
    "training_dataset , test_dataset = mnist.load_data()\n",
    "# Extracting inputs and labels\n",
    "X_train, y_train = training_dataset\n",
    "X_test,  y_test  = test_dataset"
   ]
  },
  {
   "cell_type": "code",
   "execution_count": 4,
   "metadata": {
    "colab": {
     "base_uri": "https://localhost:8080/"
    },
    "id": "tZ79p7S3tJdB",
    "outputId": "ed61729a-d6ce-4c5a-ac81-01c55ad36362"
   },
   "outputs": [
    {
     "name": "stdout",
     "output_type": "stream",
     "text": [
      "Number of training examples: 60000\n",
      "Number of testing examples: 10000\n",
      "Each image is of size:  (28, 28)\n",
      "Training X inputs  shape: (60000, 28, 28)\n",
      "Training Y outputs shape: (60000,)\n",
      "Testing  X inputs  shape: (10000, 28, 28)\n",
      "Testing  Y outputs shape: (10000,)\n"
     ]
    }
   ],
   "source": [
    "# Exploring dataset \n",
    "\n",
    "m_train = X_train.shape[0]\n",
    "num_px = X_train.shape[1:]\n",
    "m_test = X_test.shape[0]\n",
    "\n",
    "print (\"Number of training examples: \" + str(m_train))\n",
    "print (\"Number of testing examples: \" + str(m_test))\n",
    "print (\"Each image is of size: \",num_px)\n",
    "print (\"Training X inputs  shape: \" + str(X_train.shape))\n",
    "print (\"Training Y outputs shape: \" + str(y_train.shape))\n",
    "print (\"Testing  X inputs  shape: \" + str(X_test.shape))\n",
    "print (\"Testing  Y outputs shape: \" + str(y_test.shape))"
   ]
  },
  {
   "cell_type": "markdown",
   "metadata": {
    "id": "pE9KueshtL4t"
   },
   "source": [
    " Below code will show sample Images of Handwritten digits"
   ]
  },
  {
   "cell_type": "code",
   "execution_count": 5,
   "metadata": {
    "colab": {
     "base_uri": "https://localhost:8080/",
     "height": 354
    },
    "id": "pejgv6lwtXjd",
    "outputId": "3c90b1d3-93e6-43c2-e6b4-979a7d9c12ff"
   },
   "outputs": [
    {
     "data": {
      "image/png": "[encoded data removed]",
      "text/plain": [
       "<Figure size 720x504 with 10 Axes>"
      ]
     },
     "metadata": {
      "needs_background": "light"
     },
     "output_type": "display_data"
    }
   ],
   "source": [
    "igure, ax = plt.subplots(2,5,figsize=(10,7))\n",
    "for i in range(2):\n",
    "  for j in range(5):\n",
    "    ax[i,j].imshow(X_train[i+j])"
   ]
  },
  {
   "cell_type": "markdown",
   "metadata": {
    "id": "WNCO7Ydrtf0R"
   },
   "source": [
    "As usual, we need reshape and standardize the images before feeding them to the network."
   ]
  },
  {
   "cell_type": "code",
   "execution_count": 6,
   "metadata": {
    "colab": {
     "base_uri": "https://localhost:8080/"
    },
    "id": "trLQ-2RDtK0V",
    "outputId": "eb8359da-6dd4-4b74-e068-8b186e6154c4"
   },
   "outputs": [
    {
     "name": "stdout",
     "output_type": "stream",
     "text": [
      "train_x's shape: (784, 60000)\n",
      "test_x's shape: (784, 10000)\n",
      "train_y's shape: (10, 60000)\n",
      "test_y's shape: (10, 10000)\n"
     ]
    }
   ],
   "source": [
    "# Reshape the training and test examples \n",
    "X_train_flatten = X_train.reshape(X_train.shape[0], -1).T   # The \"-1\" makes reshape flatten the remaining dimensions\n",
    "X_test_flatten  = X_test.reshape(X_test.shape[0], -1).T\n",
    "\n",
    "# Standardize data to have feature values between 0 and 1.\n",
    "train_x = X_train_flatten/255\n",
    "test_x = X_test_flatten/255\n",
    "\n",
    "# One - hot encoding of real values for multiclass classification\n",
    "y_train = to_categorical(y_train).T\n",
    "y_test  = to_categorical(y_test).T\n",
    "\n",
    "print (\"train_x's shape: \" + str(train_x.shape))\n",
    "print (\"test_x's shape: \" + str(test_x.shape))\n",
    "print (\"train_y's shape: \" + str(y_train.shape))\n",
    "print (\"test_y's shape: \" + str(y_test.shape))"
   ]
  },
  {
   "cell_type": "markdown",
   "metadata": {
    "id": "2A9pnXEuuerv"
   },
   "source": [
    "# Section 3 : Deep Neural Network \n",
    " - 1 input layer, 2 hidden layer, 3 hidden layer\n",
    " - initializing defaul parameters\n",
    " - use activation functions like relu, sigmoid, softmax\n",
    " - we use cross-entropy loss function for loss\n",
    " - Uses Jax pytree concept, for updating parameters"
   ]
  },
  {
   "cell_type": "markdown",
   "metadata": {
    "id": "F8fTZw2MlSJ_"
   },
   "source": [
    "## 3.1 Implementing functions for Neural network"
   ]
  },
  {
   "cell_type": "code",
   "execution_count": 7,
   "metadata": {
    "id": "6QNERcvuXtKB"
   },
   "outputs": [],
   "source": [
    "def initialize_parameters(layers_dims):\n",
    "  \"\"\"\n",
    "    Arguments:\n",
    "    layer_dims -- python array (list) containing the dimensions of each layer in our network\n",
    "    \n",
    "    Returns:\n",
    "    parameters -- python list containing parameters \"W0\", \"b0\", ..., \"WL\", \"bL\":\n",
    "                    Wl -- weight matrix of shape (layer_dims[l], layer_dims[l-1])\n",
    "                    bl -- bias vector of shape (layer_dims[l], 1)\n",
    "  \"\"\"\n",
    "  key = random.PRNGKey(32)\n",
    "  parameters = []\n",
    "  for i in range(1,len(layers_dims)):\n",
    "    W = random.normal(key, (layers_dims[i], layers_dims[i-1]))/jnp.sqrt(layers_dims[i-1])\n",
    "    b = jnp.zeros((layers_dims[i],1))\n",
    "    parameters.append([W,b])\n",
    "\n",
    "  return parameters"
   ]
  },
  {
   "cell_type": "markdown",
   "metadata": {
    "id": "ej2-u4dgylvz"
   },
   "source": [
    "### 3.1.1 Cross Entropy Loss Function"
   ]
  },
  {
   "cell_type": "code",
   "execution_count": 9,
   "metadata": {
    "id": "bu27RNuzbvs0"
   },
   "outputs": [],
   "source": [
    "def cost_function(A,Y):\n",
    "    \"\"\"\n",
    "    Arguments:\n",
    "    A -- probability vector corresponding to label predictions, shape (10, number of examples)\n",
    "    Y -- true \"label\" vector , shape (10, number of examples)\n",
    "\n",
    "    Returns:\n",
    "    cost -- cross-entropy cost\n",
    "    \"\"\"\n",
    "    cost = -jnp.mean(Y * jnp.log(A + 1e-8))\n",
    "    return cost"
   ]
  },
  {
   "cell_type": "markdown",
   "metadata": {
    "id": "WXizj-T_yZmI"
   },
   "source": [
    "### 3.1.2 Forward Propagation"
   ]
  },
  {
   "cell_type": "code",
   "execution_count": 10,
   "metadata": {
    "id": "SqlJ02QRYq23"
   },
   "outputs": [],
   "source": [
    "def linear_activation_forward(X,parameters,layers_size):\n",
    "    \"\"\"\n",
    "    Arguments:\n",
    "    X -- inputs , shape(features, num-of-example)\n",
    "    parameters -- weights  + baises matrix: \n",
    "    layers_size -- number of layers in network\n",
    "\n",
    "    Returns:\n",
    "    A -- the output of the neural network\n",
    "    cache -- a python dictionary containing \"linear_cache\" and \"activation_cache\";\n",
    "             stored for computing the backward pass efficiently\n",
    "    \"\"\"\n",
    "    caches = {}\n",
    "    A = X\n",
    "    for i in range(layers_size - 1):\n",
    "        Z = parameters[i][0].dot(A)  + parameters[i][1]\n",
    "        A = relu(Z)\n",
    "        caches[\"A\" + str(i + 1)] = A\n",
    "        caches[\"W\" + str(i + 1)] = parameters[i][0]\n",
    "        caches[\"Z\" + str(i + 1)] = Z\n",
    "\n",
    "    Z = parameters[layers_size-1][0].dot(A) + parameters[layers_size-1][1]\n",
    "    A = softmax(Z)\n",
    "    caches[\"A\" + str(layers_size)] = A\n",
    "    caches[\"W\" + str(layers_size)] = parameters[layers_size-1][0]\n",
    "    caches[\"Z\" + str(layers_size)] = Z\n",
    "\n",
    "    return A, caches"
   ]
  },
  {
   "cell_type": "markdown",
   "metadata": {
    "id": "irILa5h4ycqv"
   },
   "source": [
    "### 3.1.3 Backward Propagation"
   ]
  },
  {
   "cell_type": "code",
   "execution_count": 11,
   "metadata": {
    "id": "Ja7yQcXEdLXs"
   },
   "outputs": [],
   "source": [
    "def linear_activation_backward(X, Y, caches, layers_size):\n",
    "    \"\"\"   \n",
    "    Arguments:\n",
    "    X -- inputs , shape(features, num-of-example)\n",
    "    Y -- true outputs, shape(classes, num_of_example)\n",
    "    cache -- dictionary of values (linear_cache, activation_cache) we store for computing backward propagation efficiently\n",
    "    layers_size -- number of layers in network\n",
    "        \n",
    "    Returns:\n",
    "    grads -- gradient of all weights and biases in network\n",
    "    \"\"\"\n",
    "    grads = []\n",
    "    m = X.shape[1]\n",
    "    caches[\"A0\"] = X\n",
    "    A = caches[\"A\" + str(layers_size)]\n",
    "    \n",
    "    dZ = A - Y\n",
    "    dW = dZ.dot(caches[\"A\" + str(layers_size - 1)].T)/m\n",
    "    db = jnp.sum(dZ, axis=1, keepdims=True)/m\n",
    "    dAprev = jnp.dot(caches[\"W\" + str(layers_size)].T, dZ)\n",
    "\n",
    "    grads.insert(0,[dW,db])\n",
    "  \n",
    "    for i in range(layers_size-1 , 0 , -1):\n",
    "        # dZ = dAprev * sigmoid_derivative(caches[\"Z\" + str(i)])\n",
    "        dZ = relu_backward(dAprev,caches[\"Z\" + str(i)])\n",
    "        dW = dZ.dot(caches[\"A\" + str(i - 1)].T)/m\n",
    "        db = jnp.sum(dZ, axis=1, keepdims=True)/m\n",
    "        if i > 1 :\n",
    "          dAprev = jnp.dot(caches[\"W\" + str(i)].T, dZ)\n",
    "\n",
    "        grads.insert(0,[dW,db])\n",
    "\n",
    "    return grads"
   ]
  },
  {
   "cell_type": "markdown",
   "metadata": {
    "id": "x02wUuDiyfwI"
   },
   "source": [
    "### 3.1.4 Updating Parameters"
   ]
  },
  {
   "cell_type": "code",
   "execution_count": 12,
   "metadata": {
    "id": "rB3RoS_ThElb"
   },
   "outputs": [],
   "source": [
    "def update_parameters(parameters, grads, learning_rate, layers_size):\n",
    "    \"\"\"\n",
    "    Uses Jax pytree Concept for updating gradient of parameters\n",
    "\n",
    "    Arguments:\n",
    "    parameters -- python dictionary containing parameters \n",
    "    grads -- python dictionary containing gradients, output of linear_activation_backward\n",
    "    \n",
    "    Returns:\n",
    "    parameters -- python dictionary containing updated parameters \n",
    "                  parameters[\"W\" + str(l)] = ... \n",
    "                  parameters[\"b\" + str(l)] = ...\n",
    "    \"\"\"\n",
    "    upd = lambda x,y : x - learning_rate * y\n",
    "\n",
    "    parameters = jax.tree_map(upd,parameters,grads)\n",
    "\n",
    "    return parameters"
   ]
  },
  {
   "cell_type": "markdown",
   "metadata": {
    "id": "ePCRroDUyjpU"
   },
   "source": [
    "## 3.2 Model\n",
    " - Model for training and fitting a given dataset"
   ]
  },
  {
   "cell_type": "code",
   "execution_count": 13,
   "metadata": {
    "id": "6fS41Wra9jXY"
   },
   "outputs": [],
   "source": [
    "def accuracy_measures(x, y, parameters):\n",
    "    A,caches = linear_activation_forward(x, parameters, len(parameters)-1)\n",
    "\n",
    "    y_hat = jnp.argmax(A,axis=0)\n",
    "    y     = jnp.argmax(y,axis=0)\n",
    "    \n",
    "    accuracy = (y_hat == y).mean()\n",
    "\n",
    "    return accuracy*100 "
   ]
  },
  {
   "cell_type": "code",
   "execution_count": 14,
   "metadata": {
    "id": "_jr2xw8LcGm0"
   },
   "outputs": [],
   "source": [
    "# Model which bind together a neural network and helps to learn \n",
    "def model(X, Y, layers_dims, learning_rate=0.075, iterations=500):\n",
    "    layers_size = len(layers_dims) - 1\n",
    "    costs = []\n",
    "    parameters = initialize_parameters(layers_dims)\n",
    "\n",
    "    for i in range(iterations):\n",
    "\n",
    "        # forward Propagation\n",
    "        A, caches = linear_activation_forward(X,parameters,layers_size)\n",
    "\n",
    "        # cost \n",
    "        cost = cost_function(A,Y)\n",
    "\n",
    "        # backward propagation  \n",
    "        grads = linear_activation_backward(X, Y, caches, layers_size)\n",
    "\n",
    "        parameters = update_parameters(parameters, grads, learning_rate, layers_size)\n",
    "\n",
    "        # accuracy = accuracy_measures(X,Y,parameters)\n",
    "        if i%50 == 0:\n",
    "          print(\"Iteration {} : \".format(i))\n",
    "          print(\"Cost : {}\".format(cost))\n",
    "        \n",
    "        if i%25 == 0:\n",
    "          costs.append(cost)\n",
    "\n",
    "    return parameters,costs"
   ]
  },
  {
   "cell_type": "code",
   "execution_count": 14,
   "metadata": {
    "id": "CMEoLB4kyu0E"
   },
   "outputs": [],
   "source": []
  },
  {
   "cell_type": "markdown",
   "metadata": {
    "id": "p_KxbL_dyvlL"
   },
   "source": [
    "# Section 4 : Validation and  Classifications metrics"
   ]
  },
  {
   "cell_type": "code",
   "execution_count": 15,
   "metadata": {
    "colab": {
     "base_uri": "https://localhost:8080/"
    },
    "id": "5A92hpfSo7bQ",
    "outputId": "d0f89c84-65fd-4093-9592-2ad44c39ca53"
   },
   "outputs": [
    {
     "name": "stdout",
     "output_type": "stream",
     "text": [
      "Iteration 0 : \n",
      "Cost : 0.23251523077487946\n",
      "Iteration 50 : \n",
      "Cost : 0.10047797113656998\n",
      "Iteration 100 : \n",
      "Cost : 0.05757208168506622\n",
      "Iteration 150 : \n",
      "Cost : 0.04516666382551193\n",
      "Iteration 200 : \n",
      "Cost : 0.039777014404535294\n",
      "Iteration 250 : \n",
      "Cost : 0.036723434925079346\n",
      "Iteration 300 : \n",
      "Cost : 0.03462843596935272\n",
      "Iteration 350 : \n",
      "Cost : 0.03303655609488487\n",
      "Iteration 400 : \n",
      "Cost : 0.03175331652164459\n",
      "Iteration 450 : \n",
      "Cost : 0.030672583729028702\n"
     ]
    }
   ],
   "source": [
    "layers_dim = [train_x.shape[0],24,24,10]\n",
    "parameters,costs = model(train_x, y_train, layers_dim)"
   ]
  },
  {
   "cell_type": "code",
   "execution_count": 16,
   "metadata": {
    "colab": {
     "base_uri": "https://localhost:8080/",
     "height": 295
    },
    "id": "NDTyWFHvyulk",
    "outputId": "a6635459-a608-4959-9c2c-28dbc5a8c9c8"
   },
   "outputs": [
    {
     "data": {
      "image/png": "[encoded data removed]",
      "text/plain": [
       "<Figure size 432x288 with 1 Axes>"
      ]
     },
     "metadata": {
      "needs_background": "light"
     },
     "output_type": "display_data"
    }
   ],
   "source": [
    "# Plotting loss and no. of iteration graph\n",
    "plt.plot(costs)\n",
    "plt.ylabel('cost')\n",
    "plt.xlabel('iterations (per hundreds)')\n",
    "plt.title(\"Learning rate =\" + str(0.075))\n",
    "plt.show()"
   ]
  },
  {
   "cell_type": "markdown",
   "metadata": {
    "id": "jaivtDa18iQH"
   },
   "source": [
    "## 4.1 : Classification report and Confusion metrics"
   ]
  },
  {
   "cell_type": "code",
   "execution_count": 17,
   "metadata": {
    "id": "0wpoCYwN9WA6"
   },
   "outputs": [],
   "source": [
    "y_pred,cache = linear_activation_forward(test_x,parameters,len(parameters))"
   ]
  },
  {
   "cell_type": "code",
   "execution_count": 19,
   "metadata": {
    "id": "twrehap3OqwJ"
   },
   "outputs": [],
   "source": [
    "y_pred = jnp.argmax(y_pred,axis=0)\n",
    "y_true = jnp.argmax(y_test,axis=0)"
   ]
  },
  {
   "cell_type": "code",
   "execution_count": 20,
   "metadata": {
    "colab": {
     "base_uri": "https://localhost:8080/"
    },
    "id": "_Z5vqHLq9Fvi",
    "outputId": "284cd7f9-a888-4997-d223-c5c8e32f20e4"
   },
   "outputs": [
    {
     "name": "stdout",
     "output_type": "stream",
     "text": [
      "              precision    recall  f1-score   support\n",
      "\n",
      "           0       0.94      0.98      0.96       980\n",
      "           1       0.97      0.98      0.97      1135\n",
      "           2       0.92      0.90      0.91      1032\n",
      "           3       0.90      0.90      0.90      1010\n",
      "           4       0.91      0.93      0.92       982\n",
      "           5       0.90      0.85      0.87       892\n",
      "           6       0.93      0.94      0.93       958\n",
      "           7       0.94      0.92      0.93      1028\n",
      "           8       0.88      0.88      0.88       974\n",
      "           9       0.91      0.91      0.91      1009\n",
      "\n",
      "    accuracy                           0.92     10000\n",
      "   macro avg       0.92      0.92      0.92     10000\n",
      "weighted avg       0.92      0.92      0.92     10000\n",
      "\n"
     ]
    }
   ],
   "source": [
    "print(classification_report(y_true.T, y_pred.T))"
   ]
  },
  {
   "cell_type": "code",
   "execution_count": null,
   "metadata": {
    "colab": {
     "base_uri": "https://localhost:8080/"
    },
    "id": "rNSGK1q18lSY",
    "outputId": "18bd704b-80ff-4ead-f1da-8a6610f78d6b"
   },
   "outputs": [
    {
     "data": {
      "text/plain": [
       "array([[ 952,    0,    2,    2,    0,    9,    7,    5,    3,    0],\n",
       "       [   0, 1107,    8,    4,    0,    1,    1,    1,   12,    1],\n",
       "       [  14,   12,  923,   15,    9,    0,   13,   11,   32,    3],\n",
       "       [   1,    2,   18,  932,    0,   17,    0,   17,   19,    4],\n",
       "       [   2,    2,    4,    0,  897,    0,   23,    1,    7,   46],\n",
       "       [  17,    2,   12,   65,   18,  715,    9,    5,   28,   21],\n",
       "       [  17,    3,   13,    0,   10,   12,  894,    2,    5,    2],\n",
       "       [   3,   19,   13,    2,    3,    1,    0,  945,    3,   39],\n",
       "       [   6,   10,   12,   18,   11,   22,    7,    7,  866,   15],\n",
       "       [   4,    4,    0,   13,   34,   13,    7,   31,   10,  893]])"
      ]
     },
     "execution_count": 163,
     "metadata": {},
     "output_type": "execute_result"
    }
   ],
   "source": [
    "confusion_matrix(y_true.T,y_pred.T)"
   ]
  },
  {
   "cell_type": "code",
   "execution_count": null,
   "metadata": {
    "id": "X_teG3meJYGM"
   },
   "outputs": [],
   "source": []
  }
 ],
 "metadata": {
  "accelerator": "GPU",
  "colab": {
   "collapsed_sections": [],
   "name": "Neural Network Classifier 2.ipynb",
   "provenance": []
  },
  "kernelspec": {
   "display_name": "Python 3 (ipykernel)",
   "language": "python",
   "name": "python3"
  },
  "language_info": {
   "codemirror_mode": {
    "name": "ipython",
    "version": 3
   },
   "file_extension": ".py",
   "mimetype": "text/x-python",
   "name": "python",
   "nbconvert_exporter": "python",
   "pygments_lexer": "ipython3",
   "version": "3.7.9"
  }
 },
 "nbformat": 4,
 "nbformat_minor": 1
}
