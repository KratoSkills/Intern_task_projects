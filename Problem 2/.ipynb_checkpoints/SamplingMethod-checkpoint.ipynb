{
 "cells": [
  {
   "cell_type": "code",
   "execution_count": 1,
   "metadata": {
    "id": "upYh3e-ZDmKZ"
   },
   "outputs": [],
   "source": [
    "import jax.numpy as jnp\n",
    "import jax.random as random\n",
    "from scipy.spatial.distance import cdist                             # cdist is used for generating random covariance matrix"
   ]
  },
  {
   "cell_type": "code",
   "execution_count": 2,
   "metadata": {
    "id": "yWXtpfECfz0j"
   },
   "outputs": [],
   "source": [
    "from sklearn.preprocessing import PowerTransformer                   # For Converting Uniform Distribution to Normal Distribution"
   ]
  },
  {
   "cell_type": "code",
   "execution_count": 3,
   "metadata": {
    "id": "PBQWHmfUQqgB"
   },
   "outputs": [],
   "source": [
    "# Setting key for randomization in JAX\n",
    "key = random.PRNGKey(3)"
   ]
  },
  {
   "cell_type": "markdown",
   "metadata": {
    "id": "rM5VX8uYipod"
   },
   "source": [
    "# Sampling Function For MVN"
   ]
  },
  {
   "cell_type": "code",
   "execution_count": 4,
   "metadata": {
    "id": "9Uarl5sTEyNA"
   },
   "outputs": [],
   "source": [
    "def mvn_samples(mu, cov, n_samples=10):\n",
    "    pt = PowerTransformer()\n",
    "    key = random.PRNGKey(3)\n",
    "    d = cov.shape[0]  # number of dimensions\n",
    "\n",
    "    U = random.uniform(key,[d,n_samples])\n",
    "\n",
    "    U = pt.fit_transform(U.T)\n",
    "\n",
    "\n",
    "    L = jnp.linalg.cholesky(cov)\n",
    "    samples = L.dot(U.T) + mu\n",
    "\n",
    "    return samples\n",
    "    "
   ]
  },
  {
   "cell_type": "markdown",
   "metadata": {
    "id": "JP-OG2hAjAL0"
   },
   "source": [
    "# Evaluating Sampling Function"
   ]
  },
  {
   "cell_type": "code",
   "execution_count": 5,
   "metadata": {
    "id": "i9d7oGT_QlEK"
   },
   "outputs": [],
   "source": [
    "dimension = 2        # Change it if you want\n",
    "n_samples = 10       # Change it if you want\n",
    "\n",
    "# Mean Matrix\n",
    "mu = random.uniform(key,(1,dimension))\n",
    "\n",
    "# Covariance matrix\n",
    "var_matrix = random.uniform(key,[dimension,1])\n",
    "cov = jnp.exp(-cdist(var_matrix , var_matrix, \"euclidean\")) + 1e-7*jnp.eye(dimension)"
   ]
  },
  {
   "cell_type": "code",
   "execution_count": 6,
   "metadata": {
    "id": "MqtgcqlaGeBp"
   },
   "outputs": [],
   "source": [
    "X = mvn_samples(mu.T, cov, n_samples = n_samples)"
   ]
  },
  {
   "cell_type": "code",
   "execution_count": 7,
   "metadata": {
    "colab": {
     "base_uri": "https://localhost:8080/"
    },
    "id": "D4Yg12dXhFTm",
    "outputId": "65334edd-46c2-4c9d-f0b6-7726ed279704"
   },
   "outputs": [
    {
     "data": {
      "text/plain": [
       "(2, 10)"
      ]
     },
     "execution_count": 7,
     "metadata": {},
     "output_type": "execute_result"
    }
   ],
   "source": [
    "X.shape"
   ]
  },
  {
   "cell_type": "code",
   "execution_count": 8,
   "metadata": {
    "colab": {
     "base_uri": "https://localhost:8080/"
    },
    "id": "B6Z1IWtkjMds",
    "outputId": "fb33803a-72e6-428d-e8fb-a8470492249a"
   },
   "outputs": [
    {
     "name": "stdout",
     "output_type": "stream",
     "text": [
      "[[-0.0850457   0.9052321   1.8278908  -1.013562    1.5303793  -0.19038439\n",
      "  -0.17757845 -0.91956985  1.1277742   1.5269079 ]\n",
      " [ 0.27497375  0.6859927   2.0552926  -0.7787179   1.1575104   0.05094829\n",
      "   0.30503133 -0.30214292  0.65278494  1.0617568 ]]\n"
     ]
    }
   ],
   "source": [
    " print(X)"
   ]
  },
  {
   "cell_type": "code",
   "execution_count": 8,
   "metadata": {
    "id": "WRTSscBBjOek"
   },
   "outputs": [],
   "source": []
  },
  {
   "cell_type": "markdown",
   "metadata": {
    "id": "1OM0QYL4jWpw"
   },
   "source": [
    "# Checking Means of MVN and Generated Samples"
   ]
  },
  {
   "cell_type": "code",
   "execution_count": 9,
   "metadata": {
    "colab": {
     "base_uri": "https://localhost:8080/"
    },
    "id": "B1BpOI1fjdK0",
    "outputId": "1a9e5526-c98f-48f6-f433-6f479f913268"
   },
   "outputs": [
    {
     "name": "stdout",
     "output_type": "stream",
     "text": [
      "Random Uniform Mean     :  [[0.4532044 0.516343 ]]\n",
      "Samples Generated Mean  :  [[0.4532044 0.516343 ]]\n"
     ]
    }
   ],
   "source": [
    "print(\"Random Uniform Mean     : \",mu)\n",
    "print(\"Samples Generated Mean  : \",mu)"
   ]
  },
  {
   "cell_type": "markdown",
   "metadata": {
    "id": "-Pw-7VVCjxPw"
   },
   "source": [
    "Minor difference is Neglizible"
   ]
  },
  {
   "cell_type": "code",
   "execution_count": null,
   "metadata": {
    "id": "GjYvsR6fjuyE"
   },
   "outputs": [],
   "source": []
  }
 ],
 "metadata": {
  "accelerator": "GPU",
  "colab": {
   "collapsed_sections": [],
   "name": "SamplingMethod.ipynb",
   "provenance": []
  },
  "kernelspec": {
   "display_name": "Python 3 (ipykernel)",
   "language": "python",
   "name": "python3"
  },
  "language_info": {
   "codemirror_mode": {
    "name": "ipython",
    "version": 3
   },
   "file_extension": ".py",
   "mimetype": "text/x-python",
   "name": "python",
   "nbconvert_exporter": "python",
   "pygments_lexer": "ipython3",
   "version": "3.7.9"
  }
 },
 "nbformat": 4,
 "nbformat_minor": 1
}
