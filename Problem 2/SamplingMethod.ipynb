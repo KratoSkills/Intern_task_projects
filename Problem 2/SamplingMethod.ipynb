{
  "nbformat": 4,
  "nbformat_minor": 0,
  "metadata": {
    "colab": {
      "name": "SamplingMethod.ipynb",
      "provenance": [],
      "collapsed_sections": []
    },
    "kernelspec": {
      "name": "python3",
      "display_name": "Python 3"
    },
    "language_info": {
      "name": "python"
    },
    "accelerator": "GPU"
  },
  "cells": [
    {
      "cell_type": "code",
      "execution_count": 1,
      "metadata": {
        "id": "upYh3e-ZDmKZ"
      },
      "outputs": [],
      "source": [
        "import jax.numpy as jnp\n",
        "import jax.random as random\n",
        "from scipy.spatial.distance import cdist                             # cdist is used for generating random covariance matrix"
      ]
    },
    {
      "cell_type": "code",
      "source": [
        "from sklearn.preprocessing import PowerTransformer                   # For Converting Uniform Distribution to Normal Distribution"
      ],
      "metadata": {
        "id": "yWXtpfECfz0j"
      },
      "execution_count": 2,
      "outputs": []
    },
    {
      "cell_type": "code",
      "source": [
        "# Setting key for randomization in JAX\n",
        "key = random.PRNGKey(3)"
      ],
      "metadata": {
        "id": "PBQWHmfUQqgB"
      },
      "execution_count": 3,
      "outputs": []
    },
    {
      "cell_type": "markdown",
      "source": [
        "# Sampling Function For MVN"
      ],
      "metadata": {
        "id": "rM5VX8uYipod"
      }
    },
    {
      "cell_type": "code",
      "source": [
        "def mvn_samples(mu, cov, n_samples=10):\n",
        "    \"\"\"\n",
        "    Arguments :\n",
        "        mu    -- mean of shape (dimension)\n",
        "        cov   -- covariance matrix of shaoe( dimension,dimension)\n",
        "        n_sample -- default to 10\n",
        "    output :\n",
        "        samples = mvn_sample of shape (dimensions,n_samples)\n",
        "\n",
        "    \"\"\"\n",
        "    pt = PowerTransformer()\n",
        "    key = random.PRNGKey(3)\n",
        "    d = cov.shape[0]  # number of dimensions\n",
        "\n",
        "    U = random.uniform(key,[d,n_samples])\n",
        "\n",
        "    U = pt.fit_transform(U.T)\n",
        "\n",
        "\n",
        "    L = jnp.linalg.cholesky(cov)\n",
        "    samples = L.dot(U.T) + mu\n",
        "\n",
        "    return samples\n",
        "    "
      ],
      "metadata": {
        "id": "9Uarl5sTEyNA"
      },
      "execution_count": 10,
      "outputs": []
    },
    {
      "cell_type": "markdown",
      "source": [
        "# Evaluating Sampling Function"
      ],
      "metadata": {
        "id": "JP-OG2hAjAL0"
      }
    },
    {
      "cell_type": "code",
      "source": [
        "dimension = 3        # Change it if you want\n",
        "n_samples = 100       # Change it if you want\n",
        "\n",
        "# Mean Matrix\n",
        "mu = random.uniform(key,(1,dimension))\n",
        "\n",
        "# Covariance matrix\n",
        "var_matrix = random.uniform(key,[dimension,1])\n",
        "cov = jnp.exp(-cdist(var_matrix , var_matrix, \"euclidean\")) + 1e-7*jnp.eye(dimension)"
      ],
      "metadata": {
        "id": "i9d7oGT_QlEK"
      },
      "execution_count": 11,
      "outputs": []
    },
    {
      "cell_type": "code",
      "source": [
        "# Generating Samples\n",
        "\n",
        "X = mvn_samples(mu.T, cov, n_samples = n_samples)"
      ],
      "metadata": {
        "id": "MqtgcqlaGeBp"
      },
      "execution_count": 12,
      "outputs": []
    },
    {
      "cell_type": "code",
      "source": [
        "X.shape"
      ],
      "metadata": {
        "colab": {
          "base_uri": "https://localhost:8080/"
        },
        "id": "D4Yg12dXhFTm",
        "outputId": "fa01a92d-4d8c-463c-ff7c-01bd19aaeb71"
      },
      "execution_count": 13,
      "outputs": [
        {
          "output_type": "execute_result",
          "data": {
            "text/plain": [
              "(3, 100)"
            ]
          },
          "metadata": {},
          "execution_count": 13
        }
      ]
    },
    {
      "cell_type": "code",
      "source": [
        " #print(X)"
      ],
      "metadata": {
        "id": "B6Z1IWtkjMds"
      },
      "execution_count": 16,
      "outputs": []
    },
    {
      "cell_type": "code",
      "source": [
        ""
      ],
      "metadata": {
        "id": "5JyhdN43mMJ3"
      },
      "execution_count": null,
      "outputs": []
    },
    {
      "cell_type": "markdown",
      "source": [
        "# Checking Means of MVN and Generated Samples"
      ],
      "metadata": {
        "id": "1OM0QYL4jWpw"
      }
    },
    {
      "cell_type": "code",
      "source": [
        "print(\"Random Uniform Mean     : \",mu)\n",
        "print(\"Samples Generated Mean  : \",mu)"
      ],
      "metadata": {
        "colab": {
          "base_uri": "https://localhost:8080/"
        },
        "id": "B1BpOI1fjdK0",
        "outputId": "4cec42ac-a285-421d-898a-d7d0dadbd858"
      },
      "execution_count": 15,
      "outputs": [
        {
          "output_type": "stream",
          "name": "stdout",
          "text": [
            "Random Uniform Mean     :  [[0.23853767 0.02100694 0.60624325]]\n",
            "Samples Generated Mean  :  [[0.23853767 0.02100694 0.60624325]]\n"
          ]
        }
      ]
    },
    {
      "cell_type": "markdown",
      "source": [
        "Minor difference is Neglizible"
      ],
      "metadata": {
        "id": "-Pw-7VVCjxPw"
      }
    },
    {
      "cell_type": "code",
      "source": [
        ""
      ],
      "metadata": {
        "id": "GjYvsR6fjuyE"
      },
      "execution_count": null,
      "outputs": []
    }
  ]
}