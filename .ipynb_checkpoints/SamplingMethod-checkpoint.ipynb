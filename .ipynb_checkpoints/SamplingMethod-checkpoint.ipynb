{
 "cells": [
  {
   "cell_type": "code",
   "execution_count": 1,
   "metadata": {
    "id": "upYh3e-ZDmKZ"
   },
   "outputs": [],
   "source": [
    "import jax.numpy as jnp\n",
    "import jax.random as random\n",
    "from scipy.spatial.distance import cdist                             # cdist is used for generating random covariance matrix"
   ]
  },
  {
   "cell_type": "code",
   "execution_count": 2,
   "metadata": {
    "id": "yWXtpfECfz0j"
   },
   "outputs": [],
   "source": [
    "from sklearn.preprocessing import PowerTransformer                   # For Converting Uniform Distribution to Normal Distribution"
   ]
  },
  {
   "cell_type": "code",
   "execution_count": 3,
   "metadata": {
    "id": "PBQWHmfUQqgB"
   },
   "outputs": [],
   "source": [
    "# Setting key for randomization in JAX\n",
    "key = random.PRNGKey(3)"
   ]
  },
  {
   "cell_type": "markdown",
   "metadata": {
    "id": "rM5VX8uYipod"
   },
   "source": [
    "# Sampling Function For MVN"
   ]
  },
  {
   "cell_type": "code",
   "execution_count": 16,
   "metadata": {
    "id": "9Uarl5sTEyNA"
   },
   "outputs": [],
   "source": [
    "def mvn_samples(mu, cov, n_samples=10):\n",
    "    \"\"\"\n",
    "    Arguments :\n",
    "        mu    -- mean of shape (dimension)\n",
    "        cov   -- covariance matrix of shaoe( dimension,dimension)\n",
    "        n_sample -- default to 10\n",
    "    output :\n",
    "        samples = mvn_sample of shape (dimensions,n_samples)\n",
    "\n",
    "    \"\"\"\n",
    "    pt = PowerTransformer()\n",
    "    key = random.PRNGKey(3)\n",
    "    d = cov.shape[0]  # number of dimensions\n",
    "\n",
    "    U = random.uniform(key,[d,n_samples])\n",
    "\n",
    "    U = pt.fit_transform(U.T)\n",
    "\n",
    "\n",
    "    L = jnp.linalg.cholesky(cov)\n",
    "    samples = L.dot(U.T) + mu\n",
    "\n",
    "    return samples\n",
    "    "
   ]
  },
  {
   "cell_type": "markdown",
   "metadata": {
    "id": "JP-OG2hAjAL0"
   },
   "source": [
    "# Evaluating Sampling Function"
   ]
  },
  {
   "cell_type": "code",
   "execution_count": 17,
   "metadata": {
    "id": "i9d7oGT_QlEK"
   },
   "outputs": [],
   "source": [
    "dimension = 3        # Change it if you want\n",
    "n_samples = 100       # Change it if you want\n",
    "\n",
    "# Mean Matrix\n",
    "mu = random.uniform(key,(1,dimension))\n",
    "\n",
    "# Covariance matrix\n",
    "var_matrix = random.uniform(key,[dimension,1])\n",
    "cov = jnp.exp(-cdist(var_matrix , var_matrix, \"euclidean\")) + 1e-7*jnp.eye(dimension)"
   ]
  },
  {
   "cell_type": "code",
   "execution_count": 18,
   "metadata": {
    "id": "MqtgcqlaGeBp"
   },
   "outputs": [],
   "source": [
    "# Generating Samples\n",
    "\n",
    "X = mvn_samples(mu.T, cov, n_samples = n_samples)"
   ]
  },
  {
   "cell_type": "code",
   "execution_count": 19,
   "metadata": {
    "colab": {
     "base_uri": "https://localhost:8080/"
    },
    "id": "D4Yg12dXhFTm",
    "outputId": "9c75b1c1-c355-47e2-8801-ccc6f0e3bb18"
   },
   "outputs": [
    {
     "data": {
      "text/plain": [
       "(3, 100)"
      ]
     },
     "execution_count": 19,
     "metadata": {},
     "output_type": "execute_result"
    }
   ],
   "source": [
    "X.shape"
   ]
  },
  {
   "cell_type": "code",
   "execution_count": 20,
   "metadata": {
    "id": "B6Z1IWtkjMds"
   },
   "outputs": [],
   "source": [
    "# print(X)"
   ]
  },
  {
   "cell_type": "code",
   "execution_count": 20,
   "metadata": {
    "id": "5JyhdN43mMJ3"
   },
   "outputs": [],
   "source": []
  },
  {
   "cell_type": "markdown",
   "metadata": {
    "id": "1OM0QYL4jWpw"
   },
   "source": [
    "# Checking Means of MVN and Generated Samples"
   ]
  },
  {
   "cell_type": "code",
   "execution_count": 21,
   "metadata": {
    "colab": {
     "base_uri": "https://localhost:8080/"
    },
    "id": "B1BpOI1fjdK0",
    "outputId": "002de279-2a9e-4848-afa0-b25726355c35"
   },
   "outputs": [
    {
     "name": "stdout",
     "output_type": "stream",
     "text": [
      "Random Uniform Mean     :  [[0.23853767 0.02100694 0.60624325]]\n",
      "Samples Generated Mean  :  [0.23853767 0.02100694 0.6062432 ]\n"
     ]
    }
   ],
   "source": [
    "print(\"Random Uniform Mean     : \",mu)\n",
    "print(\"Samples Generated Mean  : \",X.mean(axis=1))"
   ]
  },
  {
   "cell_type": "code",
   "execution_count": 30,
   "metadata": {
    "colab": {
     "base_uri": "https://localhost:8080/"
    },
    "id": "JotKHUqUbOZz",
    "outputId": "e706b38e-c981-44ee-8db5-b8213f6587ff"
   },
   "outputs": [
    {
     "name": "stdout",
     "output_type": "stream",
     "text": [
      "Random  Uniform   Cov      : \n",
      "[[1.0000001  0.8045029  0.692321  ]\n",
      " [0.8045029  1.0000001  0.55697423]\n",
      " [0.692321   0.55697423 1.0000001 ]]\n",
      "\n",
      "Samples Generated Cov   : \n",
      "[[1.0101012  0.8934811  0.55802715]\n",
      " [0.8934811  1.1401922  0.50697994]\n",
      " [0.55802715 0.50697994 0.81446916]]\n"
     ]
    }
   ],
   "source": [
    "print(\"Random  Uniform   Cov      : \")\n",
    "print(cov)\n",
    "print()\n",
    "print(\"Samples Generated Cov   : \")\n",
    "print(jnp.cov(X))"
   ]
  },
  {
   "cell_type": "markdown",
   "metadata": {
    "id": "-Pw-7VVCjxPw"
   },
   "source": [
    "Minor difference is Negligible.\n",
    "\n",
    "Built in Sampling Distribution also has minor difference for means and covariance."
   ]
  },
  {
   "cell_type": "code",
   "execution_count": null,
   "metadata": {
    "id": "GjYvsR6fjuyE"
   },
   "outputs": [],
   "source": []
  },
  {
   "cell_type": "markdown",
   "metadata": {
    "id": "2GBZLOekaqhE"
   },
   "source": [
    "## Generating Multiple Samples and comparing Means and Covariance"
   ]
  },
  {
   "cell_type": "code",
   "execution_count": 34,
   "metadata": {
    "colab": {
     "base_uri": "https://localhost:8080/"
    },
    "id": "bhBTDwYEcS6D",
    "outputId": "90b834d2-2eb8-4dbe-b677-f394688adce9"
   },
   "outputs": [
    {
     "name": "stdout",
     "output_type": "stream",
     "text": [
      "Sample : 1\n",
      " Random Uniform Mean     :  [[0.4532044 0.516343 ]]\n",
      " Samples Generated Mean  : [0.4532044  0.51634306]\n",
      "\n",
      " Random  Uniform   Cov      : \n",
      "[[1.0000001 0.9388134]\n",
      " [0.9388134 1.0000001]]\n",
      "\n",
      " Samples Generated Cov   : \n",
      "[[1.1111113  0.794049  ]\n",
      " [0.794049   0.64343786]]\n",
      "\n",
      "\n",
      "Sample : 2\n",
      " Random Uniform Mean     :  [[0.23853767 0.02100694 0.60624325]]\n",
      " Samples Generated Mean  : [0.23853767 0.02100695 0.60624325]\n",
      "\n",
      " Random  Uniform   Cov      : \n",
      "[[1.0000001  0.8045029  0.692321  ]\n",
      " [0.8045029  1.0000001  0.55697423]\n",
      " [0.692321   0.55697423 1.0000001 ]]\n",
      "\n",
      " Samples Generated Cov   : \n",
      "[[1.0204083  0.9253422  0.60540146]\n",
      " [0.9253422  1.1884226  0.60163885]\n",
      " [0.60540146 0.60163885 0.88049227]]\n",
      "\n",
      "\n",
      "Sample : 3\n",
      " Random Uniform Mean     :  [[0.23853767 0.01111937 0.60624325 0.33480167]]\n",
      " Samples Generated Mean  : [0.23853767 0.01111938 0.60624325 0.3348017 ]\n",
      "\n",
      " Random  Uniform   Cov      : \n",
      "[[1.0000001  0.79658747 0.692321   0.9082242 ]\n",
      " [0.79658747 1.0000001  0.55149424 0.7234801 ]\n",
      " [0.692321   0.55149424 1.0000001  0.76227987]\n",
      " [0.9082242  0.7234801  0.76227987 1.0000001 ]]\n",
      "\n",
      " Samples Generated Cov   : \n",
      "[[1.0101008  0.78176194 0.72696954 1.019525  ]\n",
      " [0.78176194 0.9736625  0.6183117  0.7566353 ]\n",
      " [0.72696954 0.6183117  1.048394   0.83298415]\n",
      " [1.019525   0.7566353  0.83298415 1.1787816 ]]\n",
      "\n",
      "\n"
     ]
    }
   ],
   "source": [
    "dims = [\n",
    "        [2,10],\n",
    "        [3,50],\n",
    "        [4,100]\n",
    "      ]\n",
    "\n",
    "for i in range(3):\n",
    "    dimension = dims[i][0]        \n",
    "    n_samples = dims[i][1]      \n",
    "    mu = random.uniform(key,(1,dimension))\n",
    "\n",
    "    # Covariance matrix\n",
    "    var_matrix = random.uniform(key,[dimension,1])\n",
    "    cov = jnp.exp(-cdist(var_matrix , var_matrix, \"euclidean\")) + 1e-7*jnp.eye(dimension)\n",
    "\n",
    "\n",
    "    X = mvn_samples(mu.T, cov, n_samples = n_samples)\n",
    "\n",
    "    print(\"Sample : {}\".format(i+1))\n",
    "    print(\" Random Uniform Mean     : \",mu)\n",
    "    print(\" Samples Generated Mean  : {}\\n\".format(X.mean(axis=1)))\n",
    "\n",
    "    print(\" Random  Uniform   Cov      : \")\n",
    "    print(cov)\n",
    "    print()\n",
    "    print(\" Samples Generated Cov   : \")\n",
    "    print(jnp.cov(X))\n",
    "    print()\n",
    "    print()"
   ]
  },
  {
   "cell_type": "code",
   "execution_count": null,
   "metadata": {
    "id": "28NWWQA7dT2M"
   },
   "outputs": [],
   "source": []
  }
 ],
 "metadata": {
  "accelerator": "GPU",
  "colab": {
   "collapsed_sections": [],
   "name": "SamplingMethod.ipynb",
   "provenance": []
  },
  "kernelspec": {
   "display_name": "Python 3 (ipykernel)",
   "language": "python",
   "name": "python3"
  },
  "language_info": {
   "codemirror_mode": {
    "name": "ipython",
    "version": 3
   },
   "file_extension": ".py",
   "mimetype": "text/x-python",
   "name": "python",
   "nbconvert_exporter": "python",
   "pygments_lexer": "ipython3",
   "version": "3.7.9"
  }
 },
 "nbformat": 4,
 "nbformat_minor": 1
}
